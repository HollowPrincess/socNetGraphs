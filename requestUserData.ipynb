{
 "cells": [
  {
   "cell_type": "code",
   "execution_count": null,
   "metadata": {},
   "outputs": [],
   "source": [
    "import requests\n",
    "import json\n",
    "import numpy as np\n",
    "import time\n",
    "\n",
    "from credentials import (ACCESS_TOKEN, MY_ID)\n",
    "\n",
    "info_url = 'https://api.vk.com/method/friends.get?v=5.52?user_id={}&\\\n",
    "fields=universities,occupation,sex,city,country,schools,personal&access_token={}' \n",
    "json_response = requests.get(info_url.format(MY_ID, ACCESS_TOKEN)).json()\n",
    "if json_response.get('error'):\n",
    "    print (json_response.get('error'))\n",
    "else:\n",
    "    with open('data/myFriends.json', 'w') as outfile:\n",
    "        json.dump(json_response, outfile)"
   ]
  },
  {
   "cell_type": "code",
   "execution_count": null,
   "metadata": {},
   "outputs": [],
   "source": [
    "my_friends_IDs = list(map(lambda d: d['id'], json_response['response']['items']))\n",
    "friends_lists = {}\n",
    "friends_url = 'https://api.vk.com/method/friends.getMutual?v=5.52?source_uid={}&target_uid={}&access_token={}' \n",
    "\n",
    "for friend_ID in my_friends_IDs:\n",
    "    json_response = requests.get(friends_url.format(MY_ID, friend_ID, ACCESS_TOKEN)).json()\n",
    "    if json_response.get('error'):\n",
    "        #print(json_response.get('error'))\n",
    "        time.sleep(3)\n",
    "        json_response = requests.get(friends_url.format(MY_ID, friend_ID, ACCESS_TOKEN)).json()\n",
    "        #print(json_response, '\\n')\n",
    "    if not json_response.get('error'):\n",
    "        friends_lists[friend_ID]=json_response['response']\n",
    "    "
   ]
  },
  {
   "cell_type": "code",
   "execution_count": null,
   "metadata": {},
   "outputs": [],
   "source": [
    "with open('data/commonFriends.json', 'w') as outfile:\n",
    "    json.dump(friends_lists, outfile)"
   ]
  },
  {
   "cell_type": "code",
   "execution_count": null,
   "metadata": {},
   "outputs": [],
   "source": [
    "len(list(friends_lists.keys()))"
   ]
  },
  {
   "cell_type": "code",
   "execution_count": null,
   "metadata": {},
   "outputs": [],
   "source": []
  }
 ],
 "metadata": {
  "kernelspec": {
   "display_name": "Python 3",
   "language": "python",
   "name": "python3"
  },
  "language_info": {
   "codemirror_mode": {
    "name": "ipython",
    "version": 3
   },
   "file_extension": ".py",
   "mimetype": "text/x-python",
   "name": "python",
   "nbconvert_exporter": "python",
   "pygments_lexer": "ipython3",
   "version": "3.8.3"
  }
 },
 "nbformat": 4,
 "nbformat_minor": 4
}
