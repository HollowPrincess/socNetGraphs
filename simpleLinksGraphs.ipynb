{
 "cells": [
  {
   "cell_type": "code",
   "execution_count": null,
   "metadata": {},
   "outputs": [],
   "source": [
    "import json\n",
    "import networkx as nx\n",
    "import matplotlib.pyplot as plt\n",
    "\n",
    "with open('data/commonFriends.json', 'r') as file:\n",
    "    friends_links = json.load(file)"
   ]
  },
  {
   "cell_type": "markdown",
   "metadata": {},
   "source": [
    "# All nodes and edges friends graph"
   ]
  },
  {
   "cell_type": "code",
   "execution_count": null,
   "metadata": {},
   "outputs": [],
   "source": [
    "G = nx.Graph()\n",
    "\n",
    "for friend_ID, common_friend_IDs in friends_links.items():\n",
    "    G.add_edges_from([(int(friend_ID), common_friend_ID) for common_friend_ID in common_friend_IDs])\n",
    "    \n",
    "plt.figure(figsize=(20,20))\n",
    "pos = nx.spring_layout(G)\n",
    "\n",
    "nx.draw(G, pos, node_color='Green', \n",
    "        width=2, with_labels=False)\n",
    "plt.savefig(\"graphs/friends_links_with_fliers.png\")\n",
    "plt.show()"
   ]
  },
  {
   "cell_type": "markdown",
   "metadata": {},
   "source": [
    "# Friends with at least 2 common friends graph"
   ]
  },
  {
   "cell_type": "code",
   "execution_count": null,
   "metadata": {},
   "outputs": [],
   "source": [
    "G = nx.Graph()\n",
    "\n",
    "for friend_ID, common_friend_IDs in friends_links.items():\n",
    "    if len(common_friend_IDs)>1:\n",
    "        G.add_edges_from([(int(friend_ID), common_friend_ID) for common_friend_ID in common_friend_IDs])\n",
    "    \n",
    "plt.figure(figsize=(20,20))\n",
    "pos = nx.spring_layout(G)\n",
    "\n",
    "nx.draw(G, pos, node_color='Green', \n",
    "        width=2, with_labels=False)\n",
    "plt.savefig(\"graphs/friends_links.png\")\n",
    "plt.show()"
   ]
  },
  {
   "cell_type": "code",
   "execution_count": null,
   "metadata": {},
   "outputs": [],
   "source": []
  }
 ],
 "metadata": {
  "kernelspec": {
   "display_name": "Python 3",
   "language": "python",
   "name": "python3"
  },
  "language_info": {
   "codemirror_mode": {
    "name": "ipython",
    "version": 3
   },
   "file_extension": ".py",
   "mimetype": "text/x-python",
   "name": "python",
   "nbconvert_exporter": "python",
   "pygments_lexer": "ipython3",
   "version": "3.8.3"
  }
 },
 "nbformat": 4,
 "nbformat_minor": 4
}
