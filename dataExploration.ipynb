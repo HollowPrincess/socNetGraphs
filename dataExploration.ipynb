{
 "cells": [
  {
   "cell_type": "code",
   "execution_count": null,
   "metadata": {},
   "outputs": [],
   "source": [
    "import json\n",
    "import numpy as np\n",
    "import itertools\n",
    "\n",
    "with open('data/myFriends.json', 'r') as file:\n",
    "    users_info = json.load(file)\n",
    "users_info = users_info['response']['items']"
   ]
  },
  {
   "cell_type": "markdown",
   "metadata": {},
   "source": [
    "## Fields\n",
    "\n",
    "### Additional info:\n",
    "* first_name\n",
    "* last_name\n",
    "\n",
    "### Simple links:\n",
    "* sex\n",
    "* city\n",
    "* country\n",
    "\n",
    "### High-structured:\n",
    "* personal\n",
    "* universities\n",
    "* schools\n",
    "* occupation"
   ]
  },
  {
   "cell_type": "markdown",
   "metadata": {},
   "source": [
    "# Look at simple structured data"
   ]
  },
  {
   "cell_type": "markdown",
   "metadata": {},
   "source": [
    "## sex, city, country"
   ]
  },
  {
   "cell_type": "code",
   "execution_count": null,
   "metadata": {},
   "outputs": [],
   "source": [
    "sex = list(map(lambda d: d['sex'], users_info))\n",
    "print(\"Значение и частота встречаемости значения в поле пол:\\n\")\n",
    "sex_labels, counts = np.unique(sex, return_counts=True)\n",
    "print(sex_labels, counts)\n",
    "del sex"
   ]
  },
  {
   "cell_type": "code",
   "execution_count": null,
   "metadata": {},
   "outputs": [],
   "source": [
    "city = list(map(lambda d: d['city']['title'] if 'city' in d.keys() else '', users_info))\n",
    "print(\"Значение и частота встречаемости значения в поле город:\\n\")\n",
    "print(np.unique(city, return_counts=True))\n",
    "del city"
   ]
  },
  {
   "cell_type": "code",
   "execution_count": null,
   "metadata": {},
   "outputs": [],
   "source": [
    "country = list(map(lambda d: d['country']['title'] if 'country' in d.keys() else '', users_info))\n",
    "print(\"Значение и частота встречаемости значения в поле страна:\\n\")\n",
    "print(np.unique(country, return_counts=True))\n",
    "del country"
   ]
  },
  {
   "cell_type": "markdown",
   "metadata": {},
   "source": [
    "# Look at high-structured data"
   ]
  },
  {
   "cell_type": "markdown",
   "metadata": {},
   "source": [
    "## universities, scools, occupation, personal"
   ]
  },
  {
   "cell_type": "code",
   "execution_count": null,
   "metadata": {},
   "outputs": [],
   "source": [
    "universities = list(map(lambda d: d['universities'] if 'universities' in d.keys() else '', users_info))\n",
    "print(\"Примеры данных в поле высшее образование:\\n\")\n",
    "print(universities[1:3])\n",
    "del universities"
   ]
  },
  {
   "cell_type": "code",
   "execution_count": null,
   "metadata": {},
   "outputs": [],
   "source": [
    "schools = list(map(lambda d: d['schools'] if 'schools' in d.keys() else '', users_info))\n",
    "print(\"Примеры данных в поле школа:\\n\")\n",
    "print(schools[1:3])\n",
    "del schools"
   ]
  },
  {
   "cell_type": "code",
   "execution_count": null,
   "metadata": {},
   "outputs": [],
   "source": [
    "occupation = list(map(lambda d: d['occupation'] if 'occupation' in d.keys() else '', users_info))\n",
    "print(\"Примеры данных в поле род занятий:\\n\")\n",
    "print(occupation[:5])\n",
    "del occupation"
   ]
  },
  {
   "cell_type": "code",
   "execution_count": null,
   "metadata": {},
   "outputs": [],
   "source": [
    "personal = list(map(lambda d: d['personal'] if 'personal' in d.keys() else '', users_info))\n",
    "print(\"Примеры заполнения этого поля:\\n\")\n",
    "print(personal[:5],\"\\n\")\n",
    "personal = list(map(lambda d: list(d['personal'].keys()) if 'personal' in d.keys() else '', users_info))\n",
    "personal = list(itertools.chain(*personal))\n",
    "print(\"Поля для заполнения в поле жизненная позиция и частота заполнения конкретных полей:\\n\")\n",
    "print(np.unique(personal, return_counts=True))"
   ]
  },
  {
   "cell_type": "markdown",
   "metadata": {},
   "source": [
    "# Выводы"
   ]
  },
  {
   "cell_type": "markdown",
   "metadata": {},
   "source": [
    "Был произведен поверхностный обзор данных, которые вернулись по запросу к **VK API**.\n",
    "В результате для составления графа множественных связей было принято решение использовать следующие поля:\n",
    "\n",
    "* **sex**\n",
    "* **city** (взять id из словаря для города для создания графа связей)\n",
    "* **country** (взять id из словаря для страны для создания графа связей)\n",
    "* **universities** (взять id из словаря для каждого университета в списке каждого пользователя для создания графа связей)\n",
    "* **schools** (взять id из словаря для каждой школы в списке каждого пользователя для создания графа связей)\n",
    "* **occupation** (взять id из словаря для каждого рода занятий в списке каждого пользователя для создания графа связей)\n",
    "* **personal** (взять значения политики (**'political'**))"
   ]
  },
  {
   "cell_type": "code",
   "execution_count": null,
   "metadata": {},
   "outputs": [],
   "source": []
  }
 ],
 "metadata": {
  "kernelspec": {
   "display_name": "Python 3",
   "language": "python",
   "name": "python3"
  },
  "language_info": {
   "codemirror_mode": {
    "name": "ipython",
    "version": 3
   },
   "file_extension": ".py",
   "mimetype": "text/x-python",
   "name": "python",
   "nbconvert_exporter": "python",
   "pygments_lexer": "ipython3",
   "version": "3.8.3"
  }
 },
 "nbformat": 4,
 "nbformat_minor": 4
}
