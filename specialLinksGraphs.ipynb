{
 "cells": [
  {
   "cell_type": "code",
   "execution_count": null,
   "metadata": {},
   "outputs": [],
   "source": [
    "import json\n",
    "import networkx as nx\n",
    "import numpy as np\n",
    "import itertools\n",
    "\n",
    "import matplotlib as mpl\n",
    "import matplotlib.pyplot as plt\n",
    "\n",
    "\n",
    "def autolabel(rects):\n",
    "    \"\"\"Attach a text label above each bar in *rects*, displaying its height.\"\"\"\n",
    "    for rect in rects:\n",
    "        height = rect.get_height()\n",
    "        ax.annotate('{}'.format(height),\n",
    "                    xy=(rect.get_x() + rect.get_width() / 2, height),\n",
    "                    xytext=(0, 0.5),\n",
    "                    textcoords=\"offset points\",\n",
    "                    ha='center', va='bottom')\n",
    "\n",
    "with open('data/commonFriends.json', 'r') as file:\n",
    "    friends_links = json.load(file)\n",
    "\n",
    "with open('data/myFriends.json', 'r') as file:\n",
    "    friends_info = json.load(file)\n",
    "    \n",
    "friends_info = friends_info['response']['items']"
   ]
  },
  {
   "cell_type": "code",
   "execution_count": null,
   "metadata": {},
   "outputs": [],
   "source": [
    "graph_scale = 0.4"
   ]
  },
  {
   "cell_type": "code",
   "execution_count": null,
   "metadata": {},
   "outputs": [],
   "source": [
    "# graph:\n",
    "sex = dict(map(lambda d: (d['id'], -d['sex']), friends_info))\n",
    "\n",
    "G = nx.Graph()\n",
    "for friend_ID, common_friend_IDs in friends_links.items():\n",
    "    G.add_edges_from([(int(friend_ID), common_friend_ID) \n",
    "                      for common_friend_ID in common_friend_IDs])\n",
    "nodes_without_links = set(sex)-set(G.nodes)\n",
    "G.add_nodes_from(nodes_without_links)"
   ]
  },
  {
   "cell_type": "markdown",
   "metadata": {},
   "source": [
    "# sex"
   ]
  },
  {
   "cell_type": "code",
   "execution_count": null,
   "metadata": {},
   "outputs": [],
   "source": [
    "low, *_, high = sorted(sex.values())\n",
    "norm = mpl.colors.Normalize(vmin=low, vmax=high, clip=True)\n",
    "mapper = mpl.cm.ScalarMappable(norm=norm, cmap=mpl.cm.coolwarm)\n",
    "    \n",
    "plt.figure(figsize=(20,20))\n",
    "pos = nx.spring_layout(G, k=graph_scale)\n",
    "nx.draw(G, pos, nodelist=sex,\n",
    "        node_color=[mapper.to_rgba(i) \n",
    "                    for i in sex.values()],\n",
    "        width=2, with_labels=False, node_size = 100)\n",
    "plt.savefig(\"graphs/friends_sex.png\")\n",
    "plt.show()"
   ]
  },
  {
   "cell_type": "markdown",
   "metadata": {},
   "source": [
    "# city"
   ]
  },
  {
   "cell_type": "code",
   "execution_count": null,
   "metadata": {},
   "outputs": [],
   "source": [
    "city = dict(map(lambda d: (d['id'], d['city']['id']) \n",
    "                if 'city' in d.keys() else (d['id'], -1), friends_info))"
   ]
  },
  {
   "cell_type": "code",
   "execution_count": null,
   "metadata": {},
   "outputs": [],
   "source": [
    "cities_id_map = np.unique(list(city.values()))\n",
    "cities_id_map = cities_id_map[cities_id_map!=-1]\n",
    "cities_id_map = {k: v for v, k in enumerate(cities_id_map)}\n",
    "\n",
    "users_with_city = {k:v for k, v in city.items() if v!=-1}\n",
    "\n",
    "low, *_, high = sorted(cities_id_map)\n",
    "norm = mpl.colors.Normalize(vmin=low, vmax=high, clip=True)\n",
    "mapper_city = mpl.cm.ScalarMappable(norm=norm, cmap=mpl.cm.rainbow)"
   ]
  },
  {
   "cell_type": "code",
   "execution_count": null,
   "metadata": {},
   "outputs": [],
   "source": [
    "G = nx.Graph()\n",
    "for friend_ID, common_friend_IDs in friends_links.items():\n",
    "    edges_list = [(int(friend_ID), common_friend_ID) \n",
    "                  for common_friend_ID in common_friend_IDs]\n",
    "    for edge in edges_list:\n",
    "        if (city[edge[0]]==city[edge[1]])&(city[edge[0]]!=-1):\n",
    "            color_id = city[edge[0]]\n",
    "            G.add_edges_from([edge], \n",
    "                             color = mapper_city.to_rgba(cities_id_map[color_id]))\n",
    "        else:\n",
    "            G.add_edges_from([edge], color = 'white')\n",
    "            \n",
    "nodes_without_links = set(sex)-set(G.nodes)\n",
    "G.add_nodes_from(nodes_without_links)\n",
    "\n",
    "low, *_, high = sorted(sex.values())\n",
    "norm = mpl.colors.Normalize(vmin=low, vmax=high, clip=True)\n",
    "mapper_sex = mpl.cm.ScalarMappable(norm=norm, cmap=mpl.cm.coolwarm)\n",
    "\n",
    "edges = G.edges()\n",
    "colors = [G[u][v]['color'] for u,v in edges]\n",
    "\n",
    "    \n",
    "plt.figure(figsize=(20,20))\n",
    "pos = nx.spring_layout(G, k=graph_scale)\n",
    "  \n",
    "enone = [(u, v) for (u, v, d) in G.edges(data=True) if d[\"color\"] == \"white\"]\n",
    "elook = [(u, v) for (u, v, d) in G.edges(data=True) if d[\"color\"] != \"white\"]\n",
    "colors = [G[u][v]['color'] for u,v in elook]\n",
    "\n",
    "\n",
    "# nodes\n",
    "nx.draw_networkx_nodes(G, pos, node_size=100, nodelist=sex,\n",
    "        node_color=[mapper_sex.to_rgba(i) \n",
    "                    for i in sex.values()])\n",
    "\n",
    "# edges\n",
    "nx.draw_networkx_edges(G, pos, edgelist=enone, alpha=0.0)\n",
    "nx.draw_networkx_edges(\n",
    "    G, pos, edgelist=elook, width=2, edge_color=colors, with_labels=False\n",
    ")\n",
    "\n",
    "plt.savefig(\"graphs/friends_city.png\")\n",
    "plt.show()"
   ]
  },
  {
   "cell_type": "markdown",
   "metadata": {},
   "source": [
    "# personal"
   ]
  },
  {
   "cell_type": "markdown",
   "metadata": {},
   "source": [
    "## political"
   ]
  },
  {
   "cell_type": "code",
   "execution_count": null,
   "metadata": {},
   "outputs": [],
   "source": [
    "personal = dict(map(lambda d: (d['id'],d['personal']) \n",
    "                    if 'personal' in d.keys() else (-1, -1), friends_info))\n",
    "if -1 in personal:\n",
    "    del personal[-1]"
   ]
  },
  {
   "cell_type": "code",
   "execution_count": null,
   "metadata": {},
   "outputs": [],
   "source": [
    "political = dict([(k,v['political']) for k, v in personal.items() if 'political' in v.keys()])"
   ]
  },
  {
   "cell_type": "code",
   "execution_count": null,
   "metadata": {},
   "outputs": [],
   "source": [
    "x, height = np.unique(list(political.values()), return_counts=True)\n",
    "\n",
    "fig, ax = plt.subplots(figsize=(10,5))\n",
    "\n",
    "rects = ax.bar(x, height)\n",
    "autolabel(rects)\n",
    "\n",
    "\n",
    "ax.set_ylabel('Amount')\n",
    "ax.set_title('My friends\\' political views')\n",
    "\n",
    "ax.legend()\n",
    "\n",
    "fig.tight_layout()\n",
    "plt.savefig(\"graphs/friends_political_bar.png\")\n",
    "plt.show()"
   ]
  },
  {
   "cell_type": "code",
   "execution_count": null,
   "metadata": {},
   "outputs": [],
   "source": [
    "print('Total filling political field: ', np.sum(height))"
   ]
  },
  {
   "cell_type": "code",
   "execution_count": null,
   "metadata": {},
   "outputs": [],
   "source": [
    "low, *_, high = sorted(list(political.values()))\n",
    "norm = mpl.colors.Normalize(vmin=low, vmax=high, clip=True)\n",
    "mapper_political = mpl.cm.ScalarMappable(norm=norm, cmap=mpl.cm.spring)"
   ]
  },
  {
   "cell_type": "code",
   "execution_count": null,
   "metadata": {},
   "outputs": [],
   "source": [
    "G = nx.Graph()\n",
    "for friend_ID, common_friend_IDs in friends_links.items():\n",
    "    edges_list = [(int(friend_ID), common_friend_ID) \n",
    "                  for common_friend_ID in common_friend_IDs]\n",
    "    if int(friend_ID) in political:\n",
    "        for edge in edges_list:\n",
    "            if (edge[1] in political):\n",
    "                if (political[edge[0]]==political[edge[1]])&(political[edge[0]]!=-1):\n",
    "                    color_id = political[edge[0]]\n",
    "                    G.add_edges_from([edge], \n",
    "                                     color = mapper_political.to_rgba(color_id))\n",
    "            else:\n",
    "                G.add_edges_from([edge], color = 'white', alpha=0.0)\n",
    "            \n",
    "nodes_without_links = set(sex)-set(G.nodes)\n",
    "G.add_nodes_from(nodes_without_links)\n",
    "\n",
    "low, *_, high = sorted(sex.values())\n",
    "norm = mpl.colors.Normalize(vmin=low, vmax=high, clip=True)\n",
    "mapper_sex = mpl.cm.ScalarMappable(norm=norm, cmap=mpl.cm.coolwarm)\n",
    "\n",
    "edges = G.edges()\n",
    "\n",
    "plt.figure(figsize=(20,20))\n",
    "pos = nx.spring_layout(G, k=graph_scale)\n",
    "\n",
    "enone = [(u, v) for (u, v, d) in G.edges(data=True) if d[\"color\"] == \"white\"]\n",
    "elook = [(u, v) for (u, v, d) in G.edges(data=True) if d[\"color\"] != \"white\"]\n",
    "colors = [G[u][v]['color'] for u,v in elook]\n",
    "\n",
    "\n",
    "# nodes\n",
    "nx.draw_networkx_nodes(G, pos, node_size=100, nodelist=sex,\n",
    "        node_color=[mapper_sex.to_rgba(i) \n",
    "                    for i in sex.values()])\n",
    "\n",
    "# edges\n",
    "nx.draw_networkx_edges(G, pos, edgelist=enone, alpha=0.0)\n",
    "nx.draw_networkx_edges(\n",
    "    G, pos, edgelist=elook, width=2, edge_color=colors, with_labels=False\n",
    ")\n",
    "\n",
    "plt.savefig(\"graphs/friends_political.png\")\n",
    "plt.show()"
   ]
  },
  {
   "cell_type": "markdown",
   "metadata": {},
   "source": [
    "## religion"
   ]
  },
  {
   "cell_type": "code",
   "execution_count": null,
   "metadata": {},
   "outputs": [],
   "source": [
    "religion = dict([(k,v['religion']) for k, v in personal.items() if 'religion' in v.keys()])"
   ]
  },
  {
   "cell_type": "code",
   "execution_count": null,
   "metadata": {},
   "outputs": [],
   "source": [
    "x, height = np.unique(list(religion.values()), return_counts=True)\n",
    "\n",
    "fig, ax = plt.subplots(figsize=(10,5))\n",
    "\n",
    "rects = ax.bar(x, height)\n",
    "autolabel(rects)\n",
    "\n",
    "\n",
    "ax.set_ylabel('Amount')\n",
    "ax.set_title('My friends\\' religion views')\n",
    "\n",
    "ax.set_xticklabels(x, rotation=90)\n",
    "ax.legend()\n",
    "\n",
    "fig.tight_layout()\n",
    "plt.savefig(\"graphs/friends_religion_bar.png\")\n",
    "plt.show()"
   ]
  },
  {
   "cell_type": "code",
   "execution_count": null,
   "metadata": {},
   "outputs": [],
   "source": [
    "print('Total filling religion field: ', np.sum(height))"
   ]
  },
  {
   "cell_type": "markdown",
   "metadata": {},
   "source": [
    "# Schools & Universities"
   ]
  },
  {
   "cell_type": "code",
   "execution_count": null,
   "metadata": {},
   "outputs": [],
   "source": [
    "key_word = 'schools'\n",
    "key_word = 'universities'"
   ]
  },
  {
   "cell_type": "code",
   "execution_count": null,
   "metadata": {},
   "outputs": [],
   "source": [
    "schools = dict(map(lambda d: (d['id'],d[key_word]) \n",
    "                    if key_word in d.keys() else (-1, -1), friends_info))\n",
    "if -1 in schools:\n",
    "    del schools[-1]"
   ]
  },
  {
   "cell_type": "code",
   "execution_count": null,
   "metadata": {},
   "outputs": [],
   "source": [
    "prepared_schools_info = {}\n",
    "for user_id,school_list in schools.items():\n",
    "    if school_list:\n",
    "        new_list = [int(school['id']) for school in school_list]\n",
    "        prepared_schools_info[user_id]=new_list"
   ]
  },
  {
   "cell_type": "code",
   "execution_count": null,
   "metadata": {},
   "outputs": [],
   "source": [
    "unique_schools, height = np.unique(list(itertools.chain(*prepared_schools_info.values())), return_counts=True)"
   ]
  },
  {
   "cell_type": "code",
   "execution_count": null,
   "metadata": {},
   "outputs": [],
   "source": [
    "fig, ax = plt.subplots(figsize=(10,5))\n",
    "rects = ax.bar(range(len(unique_schools)), height)\n",
    "autolabel(rects)\n",
    "\n",
    "ax.set_ylabel('Amount')\n",
    "ax.set_title('My friends\\' {} frequencies'.format(key_word))\n",
    "ax.legend()\n",
    "\n",
    "fig.tight_layout()\n",
    "plt.savefig(\"graphs/friends_{}_bar.png\".format(key_word))\n",
    "plt.show()"
   ]
  },
  {
   "cell_type": "code",
   "execution_count": null,
   "metadata": {},
   "outputs": [],
   "source": [
    "schools_id_map = sorted(np.unique(unique_schools))\n",
    "schools_id_map = {k: v for v, k in enumerate(schools_id_map)}\n",
    "\n",
    "low, *_, high = schools_id_map\n",
    "norm = mpl.colors.Normalize(vmin=low, vmax=high, clip=True)\n",
    "mapper_schools = mpl.cm.ScalarMappable(norm=norm, cmap=mpl.cm.rainbow)"
   ]
  },
  {
   "cell_type": "code",
   "execution_count": null,
   "metadata": {},
   "outputs": [],
   "source": [
    "G = nx.Graph()\n",
    "for friend_ID, common_friend_IDs in friends_links.items():\n",
    "    edges_list = [(int(friend_ID), common_friend_ID) \n",
    "                  for common_friend_ID in common_friend_IDs]\n",
    "    if int(friend_ID) in prepared_schools_info:\n",
    "        for edge in edges_list:\n",
    "            if (edge[1] in prepared_schools_info):\n",
    "                for school_id_left_user in prepared_schools_info[edge[0]]:\n",
    "                    for school_id_right_user in prepared_schools_info[edge[1]]:\n",
    "                        if (school_id_left_user==school_id_right_user):\n",
    "                            color_id = schools_id_map[school_id_left_user]\n",
    "                            G.add_edges_from([edge], \n",
    "                                             color = mapper_schools.to_rgba(color_id))\n",
    "            else:\n",
    "                G.add_edges_from([edge], color = 'white')\n",
    "            \n",
    "nodes_without_links = set(sex)-set(G.nodes)\n",
    "G.add_nodes_from(nodes_without_links)\n",
    "\n",
    "low, *_, high = sorted(sex.values())\n",
    "norm = mpl.colors.Normalize(vmin=low, vmax=high, clip=True)\n",
    "mapper_sex = mpl.cm.ScalarMappable(norm=norm, cmap=mpl.cm.coolwarm)\n",
    "\n",
    "edges = G.edges()\n",
    "colors = [G[u][v]['color'] for u,v in edges]\n",
    "\n",
    "    \n",
    "plt.figure(figsize=(20,20))\n",
    "pos = nx.spring_layout(G, graph_scale)\n",
    "\n",
    "enone = [(u, v) for (u, v, d) in G.edges(data=True) if d[\"color\"] == \"white\"]\n",
    "elook = [(u, v) for (u, v, d) in G.edges(data=True) if d[\"color\"] != \"white\"]\n",
    "colors = [G[u][v]['color'] for u,v in elook]\n",
    "\n",
    "# nodes\n",
    "nx.draw_networkx_nodes(G, pos, node_size=100, nodelist=sex,\n",
    "        node_color=[mapper_sex.to_rgba(i) \n",
    "                    for i in sex.values()])\n",
    "\n",
    "# edges\n",
    "nx.draw_networkx_edges(G, pos, edgelist=enone, alpha=0.0)\n",
    "nx.draw_networkx_edges(\n",
    "    G, pos, edgelist=elook, width=2, edge_color=colors, with_labels=False\n",
    ")\n",
    "\n",
    "plt.savefig(\"graphs/friends_{}.png\".format(key_word))\n",
    "plt.show()"
   ]
  },
  {
   "cell_type": "markdown",
   "metadata": {},
   "source": [
    "# occupation"
   ]
  },
  {
   "cell_type": "code",
   "execution_count": null,
   "metadata": {},
   "outputs": [],
   "source": [
    "key_word = \"type\"\n",
    "#key_word = \"name\"\n",
    "info = dict(map(lambda d: (d['id'],d['occupation'][key_word]) \n",
    "                    if 'occupation' in d.keys() else (-1, -1), friends_info))\n",
    "if -1 in info:\n",
    "    del info[-1]"
   ]
  },
  {
   "cell_type": "code",
   "execution_count": null,
   "metadata": {},
   "outputs": [],
   "source": [
    "x, height = np.unique(list(info.values()), return_counts=True)\n",
    "\n",
    "fig, ax = plt.subplots(figsize=(10,5))\n",
    "\n",
    "rects = ax.bar(range(len(x)), height)\n",
    "autolabel(rects)\n",
    "\n",
    "\n",
    "ax.set_ylabel('Amount')\n",
    "ax.set_title('My friends\\' occupation')\n",
    "ax.set_xticks(list(range(len(x))))\n",
    "ax.set_xticklabels(x, rotation=90)\n",
    "ax.legend()\n",
    "\n",
    "fig.tight_layout()\n",
    "plt.savefig(\"graphs/friends_occupation_bar.png\")\n",
    "plt.show()"
   ]
  },
  {
   "cell_type": "code",
   "execution_count": null,
   "metadata": {},
   "outputs": [],
   "source": [
    "info_id_map = sorted(np.unique(list(info.values())))\n",
    "info_id_map = {k: v for v, k in enumerate(info_id_map)}\n",
    "\n",
    "\n",
    "low, *_, high = list(info_id_map.values())\n",
    "norm = mpl.colors.Normalize(vmin=low, vmax=high, clip=True)\n",
    "mapper_info = mpl.cm.ScalarMappable(norm=norm, cmap=mpl.cm.rainbow)"
   ]
  },
  {
   "cell_type": "code",
   "execution_count": null,
   "metadata": {},
   "outputs": [],
   "source": [
    "G = nx.Graph()\n",
    "for friend_ID, common_friend_IDs in friends_links.items():\n",
    "    edges_list = [(int(friend_ID), common_friend_ID) \n",
    "                  for common_friend_ID in common_friend_IDs]\n",
    "    if int(friend_ID) in info:\n",
    "        for edge in edges_list:\n",
    "            if (edge[1] in info):\n",
    "                if (info[edge[0]]==info[edge[1]])&(info[edge[0]]!=-1):\n",
    "                    color_id = info_id_map[info[edge[0]]]\n",
    "                    G.add_edges_from([edge], \n",
    "                                     color = mapper_info.to_rgba(color_id))\n",
    "            else:\n",
    "                G.add_edges_from([edge], color = 'white')\n",
    "            \n",
    "nodes_without_links = set(sex)-set(G.nodes)\n",
    "G.add_nodes_from(nodes_without_links)\n",
    "\n",
    "low, *_, high = sorted(sex.values())\n",
    "norm = mpl.colors.Normalize(vmin=low, vmax=high, clip=True)\n",
    "mapper_sex = mpl.cm.ScalarMappable(norm=norm, cmap=mpl.cm.coolwarm)\n",
    "\n",
    "edges = G.edges()\n",
    "colors = [G[u][v]['color'] for u,v in edges]\n",
    "\n",
    "plt.figure(figsize=(20,20))\n",
    "pos = nx.spring_layout(G, k=graph_scale)\n",
    "\n",
    "\n",
    "enone = [(u, v) for (u, v, d) in G.edges(data=True) if d[\"color\"] == \"white\"]\n",
    "elook = [(u, v) for (u, v, d) in G.edges(data=True) if d[\"color\"] != \"white\"]\n",
    "colors = [G[u][v]['color'] for u,v in elook]\n",
    "\n",
    "# nodes\n",
    "nx.draw_networkx_nodes(G, pos, node_size=100, nodelist=sex,\n",
    "        node_color=[mapper_sex.to_rgba(i) \n",
    "                    for i in sex.values()])\n",
    "\n",
    "# edges\n",
    "nx.draw_networkx_edges(G, pos, edgelist=enone, alpha=0.0)\n",
    "nx.draw_networkx_edges(\n",
    "    G, pos, edgelist=elook, width=2, edge_color=colors, with_labels=False\n",
    ")\n",
    "\n",
    "plt.savefig(\"graphs/friends_political.png\")\n",
    "plt.show()"
   ]
  },
  {
   "cell_type": "code",
   "execution_count": null,
   "metadata": {},
   "outputs": [],
   "source": []
  }
 ],
 "metadata": {
  "kernelspec": {
   "display_name": "Python 3",
   "language": "python",
   "name": "python3"
  },
  "language_info": {
   "codemirror_mode": {
    "name": "ipython",
    "version": 3
   },
   "file_extension": ".py",
   "mimetype": "text/x-python",
   "name": "python",
   "nbconvert_exporter": "python",
   "pygments_lexer": "ipython3",
   "version": "3.8.3"
  }
 },
 "nbformat": 4,
 "nbformat_minor": 4
}
