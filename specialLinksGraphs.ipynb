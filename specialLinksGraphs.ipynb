{
 "cells": [
  {
   "cell_type": "code",
   "execution_count": null,
   "metadata": {},
   "outputs": [],
   "source": [
    "import json\n",
    "import networkx as nx\n",
    "import matplotlib as mpl\n",
    "import matplotlib.pyplot as plt\n",
    "\n",
    "with open('data/commonFriends.json', 'r') as file:\n",
    "    friends_links = json.load(file)\n",
    "\n",
    "with open('data/myFriends.json', 'r') as file:\n",
    "    friends_info = json.load(file)\n",
    "    \n",
    "friends_info = friends_info['response']['items']"
   ]
  },
  {
   "cell_type": "code",
   "execution_count": null,
   "metadata": {},
   "outputs": [],
   "source": [
    "# graph:\n",
    "sex = dict(map(lambda d: (d['id'], -d['sex']), friends_info))\n",
    "\n",
    "G = nx.Graph()\n",
    "for friend_ID, common_friend_IDs in friends_links.items():\n",
    "    G.add_edges_from([(int(friend_ID), common_friend_ID) \n",
    "                      for common_friend_ID in common_friend_IDs])\n",
    "nodes_without_links = set(sex)-set(G.nodes)\n",
    "G.add_nodes_from(nodes_without_links)"
   ]
  },
  {
   "cell_type": "markdown",
   "metadata": {},
   "source": [
    "# sex"
   ]
  },
  {
   "cell_type": "code",
   "execution_count": null,
   "metadata": {},
   "outputs": [],
   "source": [
    "low, *_, high = sorted(sex.values())\n",
    "norm = mpl.colors.Normalize(vmin=low, vmax=high, clip=True)\n",
    "mapper = mpl.cm.ScalarMappable(norm=norm, cmap=mpl.cm.coolwarm)\n",
    "    \n",
    "plt.figure(figsize=(20,20))\n",
    "pos = nx.spring_layout(G, k=0.2)\n",
    "nx.draw(G, pos, nodelist=sex,\n",
    "        node_color=[mapper.to_rgba(i) \n",
    "                    for i in sex.values()],\n",
    "        width=2, with_labels=False, node_size = 100)\n",
    "plt.savefig(\"graphs/friends_sex.png\")\n",
    "plt.show()"
   ]
  },
  {
   "cell_type": "markdown",
   "metadata": {},
   "source": [
    "# city"
   ]
  },
  {
   "cell_type": "code",
   "execution_count": null,
   "metadata": {},
   "outputs": [],
   "source": [
    "city = dict(map(lambda d: (d['id'], d['city']['id']) \n",
    "                if 'city' in d.keys() else (d['id'], -1), friends_info))"
   ]
  },
  {
   "cell_type": "code",
   "execution_count": null,
   "metadata": {},
   "outputs": [],
   "source": [
    "cities_id_map = np.unique(list(city.values()))\n",
    "cities_id_map = cities_id_map[cities_id_map!=-1]\n",
    "cities_id_map = {k: v for v, k in enumerate(cities_id_map)}\n",
    "\n",
    "users_with_city = {k:v for k, v in city.items() if v!=-1}\n",
    "\n",
    "low, *_, high = cities_id_map\n",
    "norm = mpl.colors.Normalize(vmin=low, vmax=high, clip=True)\n",
    "mapper_city = mpl.cm.ScalarMappable(norm=norm, cmap=mpl.cm.rainbow)"
   ]
  },
  {
   "cell_type": "code",
   "execution_count": null,
   "metadata": {},
   "outputs": [],
   "source": [
    "G = nx.Graph()\n",
    "for friend_ID, common_friend_IDs in friends_links.items():\n",
    "    edges_list = [(int(friend_ID), common_friend_ID) \n",
    "                  for common_friend_ID in common_friend_IDs]\n",
    "    for edge in edges_list:\n",
    "        if (city[edge[0]]==city[edge[1]])&(city[edge[0]]!=-1):\n",
    "            color_id = city[edge[0]]\n",
    "            G.add_edges_from([edge], \n",
    "                             color = mapper_city.to_rgba(cities_id_map[color_id]))\n",
    "        #else:\n",
    "        #    G.add_edges_from([edge], color = 'white')\n",
    "            \n",
    "nodes_without_links = set(sex)-set(G.nodes)\n",
    "G.add_nodes_from(nodes_without_links)\n",
    "\n",
    "low, *_, high = sorted(sex.values())\n",
    "norm = mpl.colors.Normalize(vmin=low, vmax=high, clip=True)\n",
    "mapper_sex = mpl.cm.ScalarMappable(norm=norm, cmap=mpl.cm.coolwarm)\n",
    "\n",
    "edges = G.edges()\n",
    "colors = [G[u][v]['color'] for u,v in edges]\n",
    "\n",
    "    \n",
    "plt.figure(figsize=(20,20))\n",
    "pos = nx.spring_layout(G, k=0.2)\n",
    "\n",
    "nx.draw(G, pos, nodelist=sex,\n",
    "        node_color=[mapper_sex.to_rgba(i) \n",
    "                    for i in sex.values()],\n",
    "        edges=edges, edge_color=colors, \n",
    "        width=2, with_labels=False, node_size = 100)\n",
    "\n",
    "plt.savefig(\"graphs/friends_sex.png\")\n",
    "plt.show()"
   ]
  },
  {
   "cell_type": "markdown",
   "metadata": {},
   "source": [
    "# personal"
   ]
  },
  {
   "cell_type": "code",
   "execution_count": null,
   "metadata": {},
   "outputs": [],
   "source": [
    "personal = dict(map(lambda d: (d['id'],d['personal']) \n",
    "                    if 'personal' in d.keys() else (-1, -1), friends_info))\n",
    "if -1 in personal:\n",
    "    del personal[-1]"
   ]
  },
  {
   "cell_type": "code",
   "execution_count": null,
   "metadata": {},
   "outputs": [],
   "source": [
    "political = dict([(k,v['political']) for k, v in personal.items() if 'political' in v.keys()])\n",
    "religion = dict([(k,v['religion']) for k, v in personal.items() if 'religion' in v.keys()])"
   ]
  },
  {
   "cell_type": "code",
   "execution_count": null,
   "metadata": {},
   "outputs": [],
   "source": [
    "x, height = np.unique(list(political.values()), return_counts=True)\n",
    "plt.figsize = (20,15)\n",
    "fig, ax = plt.subplots()\n",
    "\n",
    "rects = ax.bar(x, height)\n",
    "\n",
    "def autolabel(rects):\n",
    "    \"\"\"Attach a text label above each bar in *rects*, displaying its height.\"\"\"\n",
    "    for rect in rects:\n",
    "        height = rect.get_height()\n",
    "        ax.annotate('{}'.format(height),\n",
    "                    xy=(rect.get_x() + rect.get_width() / 2, height),\n",
    "                    xytext=(0, 0.5),\n",
    "                    textcoords=\"offset points\",\n",
    "                    ha='center', va='bottom')\n",
    "autolabel(rects)\n",
    "\n",
    "\n",
    "ax.set_ylabel('Amount')\n",
    "ax.set_title('My friends\\' political views')\n",
    "\n",
    "ax.legend()\n",
    "\n",
    "fig.tight_layout()\n",
    "plt.savefig(\"graphs/friends_political_bar.png\")\n",
    "plt.show()"
   ]
  },
  {
   "cell_type": "code",
   "execution_count": null,
   "metadata": {},
   "outputs": [],
   "source": [
    "print('Total filling: ', np.sum(height))"
   ]
  },
  {
   "cell_type": "code",
   "execution_count": null,
   "metadata": {},
   "outputs": [],
   "source": [
    "low, *_, high = sorted(list(political.values()))\n",
    "norm = mpl.colors.Normalize(vmin=low, vmax=high, clip=True)\n",
    "mapper_political = mpl.cm.ScalarMappable(norm=norm, cmap=mpl.cm.spring)"
   ]
  },
  {
   "cell_type": "code",
   "execution_count": null,
   "metadata": {},
   "outputs": [],
   "source": [
    "G = nx.Graph()\n",
    "for friend_ID, common_friend_IDs in friends_links.items():\n",
    "    edges_list = [(int(friend_ID), common_friend_ID) \n",
    "                  for common_friend_ID in common_friend_IDs]\n",
    "    if int(friend_ID) in political:\n",
    "        for edge in edges_list:\n",
    "            if (edge[1] in political):\n",
    "                if (political[edge[0]]==political[edge[1]])&(political[edge[0]]!=-1):\n",
    "                    color_id = political[edge[0]]\n",
    "                    G.add_edges_from([edge], \n",
    "                                     color = mapper_political.to_rgba(color_id))\n",
    "            else:\n",
    "                G.add_edges_from([edge], color = 'white')\n",
    "            \n",
    "nodes_without_links = set(sex)-set(G.nodes)\n",
    "G.add_nodes_from(nodes_without_links)\n",
    "\n",
    "low, *_, high = sorted(sex.values())\n",
    "norm = mpl.colors.Normalize(vmin=low, vmax=high, clip=True)\n",
    "mapper_sex = mpl.cm.ScalarMappable(norm=norm, cmap=mpl.cm.coolwarm)\n",
    "\n",
    "edges = G.edges()\n",
    "colors = [G[u][v]['color'] for u,v in edges]\n",
    "\n",
    "plt.figure(figsize=(20,20))\n",
    "pos = nx.spring_layout(G, k=0.2)\n",
    "nx.draw(G, pos, nodelist=sex,\n",
    "        node_color=[mapper_sex.to_rgba(i) \n",
    "                    for i in sex.values()],\n",
    "        edges=edges, edge_color=colors,\n",
    "        width=2, with_labels=False, node_size = 100)\n",
    "plt.savefig(\"graphs/friends_political.png\")\n",
    "plt.show()"
   ]
  },
  {
   "cell_type": "code",
   "execution_count": null,
   "metadata": {},
   "outputs": [],
   "source": []
  }
 ],
 "metadata": {
  "kernelspec": {
   "display_name": "Python 3",
   "language": "python",
   "name": "python3"
  },
  "language_info": {
   "codemirror_mode": {
    "name": "ipython",
    "version": 3
   },
   "file_extension": ".py",
   "mimetype": "text/x-python",
   "name": "python",
   "nbconvert_exporter": "python",
   "pygments_lexer": "ipython3",
   "version": "3.8.3"
  }
 },
 "nbformat": 4,
 "nbformat_minor": 4
}
